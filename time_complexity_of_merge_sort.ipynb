{
 "cells": [
  {
   "cell_type": "code",
   "execution_count": 21,
   "metadata": {
    "collapsed": false
   },
   "outputs": [
    {
     "data": {
      "text/plain": [
       "[<matplotlib.lines.Line2D at 0x1114cff60>]"
      ]
     },
     "execution_count": 21,
     "metadata": {},
     "output_type": "execute_result"
    },
    {
     "data": {
      "image/png": "[encoded data removed]",
      "text/plain": [
       "<Figure size 432x288 with 1 Axes>"
      ]
     },
     "metadata": {},
     "output_type": "display_data"
    }
   ],
   "source": [
    "from pylab import *\n",
    "from numpy import *\n",
    "from math import *\n",
    "from test_data_generator import *\n",
    "from time import time\n",
    "\n",
    "list_of_arrays_to_sort = []\n",
    "min_list_size = 10\n",
    "max_list_size = 10000\n",
    "increments = 100\n",
    "\n",
    "\n",
    "# define a function that compare and merge two lists.\n",
    "def sort_merge_list_impl_j_2(left_list: [], right_list: []) ->[]:\n",
    "\n",
    "    left_index = 0\n",
    "    right_index = 0\n",
    "    result_list = list()\n",
    "\n",
    "    while left_index < len(left_list) and right_index < len(right_list):\n",
    "        if left_list[left_index] < right_list[right_index]:\n",
    "            result_list.append(left_list[left_index])\n",
    "            left_index = left_index + 1\n",
    "        else:\n",
    "            result_list.append(right_list[right_index])\n",
    "            right_index = right_index + 1\n",
    "\n",
    "    if left_index == len(left_list):\n",
    "        result_list = result_list + right_list[right_index:]\n",
    "    if right_index == len(right_list):\n",
    "        result_list = result_list + left_list[left_index:]\n",
    "\n",
    "    return result_list\n",
    "\n",
    "\n",
    "# Bilal El Uneis\n",
    "# took the combined work done with Jieshu's recursive impl\n",
    "# and attempted to minimize both the function and sorting\n",
    "# loop in sort_merge_list_impl_b\n",
    "def merge_sort_recursion_impl_b(list_to_sort: []) -> []:\n",
    "\n",
    "    if len(list_to_sort) == 1:\n",
    "        return list_to_sort\n",
    "\n",
    "    else:\n",
    "        list_size = len(list_to_sort)\n",
    "        mid_index = floor(list_size / 2)\n",
    "        left_list = list_to_sort[:mid_index]\n",
    "        right_list = list_to_sort[mid_index:]\n",
    "        left_list_sorted = merge_sort_recursion_impl_b(left_list)\n",
    "        right_list_sorted = merge_sort_recursion_impl_b(right_list)\n",
    "        return sort_merge_list_impl_j_2(left_list_sorted, right_list_sorted)\n",
    "\n",
    "\n",
    "for list_size in range(min_list_size, max_list_size, increments):\n",
    "    (_, random_list, worse_case_list) = lists_generator(list_size, list_size)\n",
    "    list_of_arrays_to_sort.append(random_list)\n",
    "\n",
    "time_in_ms_list = []\n",
    "\n",
    "\n",
    "for array_to_sort in list_of_arrays_to_sort:\n",
    "    start_time = int(time() * 1000)\n",
    "    merge_sort_recursion_impl_b(array_to_sort)\n",
    "    end_time = int(time() * 1000)\n",
    "    time_in_ms_list.append(end_time - start_time)\n",
    "    \n",
    "    \n",
    "ns = range(min_list_size, max_list_size, increments)\n",
    "\n",
    "plt.plot(ns, np.array(time_in_ms_list))\n"
   ]
  },
  {
   "cell_type": "code",
   "execution_count": 17,
   "metadata": {},
   "outputs": [],
   "source": [
    "\n"
   ]
  },
  {
   "cell_type": "code",
   "execution_count": null,
   "metadata": {},
   "outputs": [],
   "source": []
  }
 ],
 "metadata": {
  "kernelspec": {
   "display_name": "Python 2",
   "language": "python",
   "name": "python2"
  },
  "language_info": {
   "codemirror_mode": {
    "name": "ipython",
    "version": 2
   },
   "file_extension": ".py",
   "mimetype": "text/x-python",
   "name": "python",
   "nbconvert_exporter": "python",
   "pygments_lexer": "ipython2",
   "version": "2.7.6"
  }
 },
 "nbformat": 4,
 "nbformat_minor": 0
}
