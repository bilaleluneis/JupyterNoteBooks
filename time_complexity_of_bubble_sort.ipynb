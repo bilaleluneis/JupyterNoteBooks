{
 "cells": [
  {
   "cell_type": "code",
   "execution_count": 4,
   "metadata": {},
   "outputs": [
    {
     "data": {
      "text/plain": [
       "[<matplotlib.lines.Line2D at 0x1101365c0>]"
      ]
     },
     "execution_count": 4,
     "metadata": {},
     "output_type": "execute_result"
    },
    {
     "data": {
      "image/png": "[encoded data removed]",
      "text/plain": [
       "<Figure size 432x288 with 1 Axes>"
      ]
     },
     "metadata": {},
     "output_type": "display_data"
    }
   ],
   "source": [
    "from pylab import *\n",
    "from numpy import *\n",
    "from math import *\n",
    "from test_data_generator import *\n",
    "from time import time\n",
    "\n",
    "list_of_arrays_to_sort = []\n",
    "min_list_size = 10\n",
    "max_list_size = 800\n",
    "increments = 10\n",
    "\n",
    "\n",
    "def lists_generator(end_number, size_of_list):\n",
    "    already_sorted_list = list(range(size_of_list))\n",
    "    random_sorted_list = random_generator.randint(end_number, size=size_of_list).tolist()\n",
    "    reverse_sorted_list = already_sorted_list[::-1]\n",
    "    return already_sorted_list, random_sorted_list, reverse_sorted_list\n",
    "\n",
    "\n",
    "def bubble_sort(list_to_be_sorted):\n",
    "\n",
    "    list_size_to_sort = len(list_to_be_sorted)\n",
    "    current_index = list_size_to_sort - 1\n",
    "    sorted_array = list(list_to_be_sorted)\n",
    "    number_of_iterations = 0\n",
    "\n",
    "    while number_of_iterations < (list_size_to_sort - 1):\n",
    "\n",
    "        while current_index > 0:  # 0 is first index in array\n",
    "            current_element = sorted_array[current_index]\n",
    "            previous_element = sorted_array[current_index - 1]\n",
    "            if current_element < previous_element:\n",
    "                sorted_array[current_index] = previous_element\n",
    "                sorted_array[current_index - 1] = current_element\n",
    "            current_index = current_index - 1\n",
    "\n",
    "        number_of_iterations = number_of_iterations + 1\n",
    "        current_index = list_size_to_sort - 1\n",
    "\n",
    "    return sorted_array\n",
    "\n",
    "\n",
    "for list_size in range(min_list_size, max_list_size, increments):\n",
    "    (_, random_list, worse_case_list) = lists_generator(list_size, list_size)\n",
    "    list_of_arrays_to_sort.append(random_list)\n",
    "\n",
    "time_in_ms_list = []\n",
    "\n",
    "\n",
    "for array_to_sort in list_of_arrays_to_sort:\n",
    "    start_time = int(time() * 1000)\n",
    "    bubble_sort(array_to_sort)\n",
    "    end_time = int(time() * 1000)\n",
    "    time_in_ms_list.append(end_time - start_time)\n",
    "    \n",
    "    \n",
    "ns = range(min_list_size, max_list_size, increments)\n",
    "\n",
    "plt.plot(ns, np.array(time_in_ms_list))"
   ]
  },
  {
   "cell_type": "code",
   "execution_count": 9,
   "metadata": {},
   "outputs": [],
   "source": []
  },
  {
   "cell_type": "code",
   "execution_count": null,
   "metadata": {},
   "outputs": [],
   "source": []
  }
 ],
 "metadata": {
  "kernelspec": {
   "display_name": "Python 2",
   "language": "python",
   "name": "python2"
  },
  "language_info": {
   "codemirror_mode": {
    "name": "ipython",
    "version": 2
   },
   "file_extension": ".py",
   "mimetype": "text/x-python",
   "name": "python",
   "nbconvert_exporter": "python",
   "pygments_lexer": "ipython2",
   "version": "2.7.6"
  }
 },
 "nbformat": 4,
 "nbformat_minor": 0
}
