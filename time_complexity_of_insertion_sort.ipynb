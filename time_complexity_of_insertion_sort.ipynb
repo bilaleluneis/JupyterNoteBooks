{
 "cells": [
  {
   "cell_type": "code",
   "execution_count": 24,
   "metadata": {
    "collapsed": true
   },
   "outputs": [
    {
     "data": {
      "text/plain": [
       "[<matplotlib.lines.Line2D at 0x11b143e10>]"
      ]
     },
     "execution_count": 24,
     "metadata": {},
     "output_type": "execute_result"
    },
    {
     "data": {
      "image/png": "[encoded data removed]",
      "text/plain": [
       "<Figure size 432x288 with 1 Axes>"
      ]
     },
     "metadata": {},
     "output_type": "display_data"
    }
   ],
   "source": [
    "from pylab import *\n",
    "from numpy import *\n",
    "from math import *\n",
    "from test_data_generator import *\n",
    "from time import time\n",
    "\n",
    "list_of_arrays_to_sort = []\n",
    "min_list_size = 10\n",
    "max_list_size = 1000\n",
    "increments = 10\n",
    "\n",
    "\n",
    "def insertion_sort_impl_b(list_to_sort: [int]) -> [int]:\n",
    "    result_list = list(list_to_sort)\n",
    "    list_size = len(list_to_sort)\n",
    "    current_index = 1  # start from next element to check against previous one.\n",
    "    while current_index < list_size:\n",
    "        index_to_compare_from = current_index\n",
    "        while index_to_compare_from > 0:\n",
    "            if result_list[index_to_compare_from] < result_list[index_to_compare_from - 1]:\n",
    "                swap(result_list, index_to_compare_from, (index_to_compare_from - 1))\n",
    "            index_to_compare_from = index_to_compare_from - 1\n",
    "        current_index = current_index + 1\n",
    "    return result_list\n",
    "\n",
    "\n",
    "def swap(list_to_operate_on: [int], first_index, second_index):\n",
    "\n",
    "    first_value = list_to_operate_on[first_index]\n",
    "    second_value = list_to_operate_on[second_index]\n",
    "    list_to_operate_on[first_index] = second_value\n",
    "    list_to_operate_on[second_index] = first_value\n",
    "\n",
    "\n",
    "def insertion_sort_impl_j(list_to_be_sorted: []) ->[]:\n",
    "    result_list = [list_to_be_sorted[0]]\n",
    "    for element in list_to_be_sorted[1:]:\n",
    "        if element > result_list[-1]:\n",
    "            result_list.append(element)\n",
    "        elif element < result_list[0]:\n",
    "            result_list.insert(0, element)\n",
    "        else:\n",
    "            for x in list(range(len(result_list) - 1)):\n",
    "                if result_list[x] <= element <= result_list[x+1]:\n",
    "                    result_list.insert(x+1, element)\n",
    "                    break\n",
    "    return result_list\n",
    "\n",
    "\n",
    "for list_size in range(min_list_size, max_list_size, increments):\n",
    "    (_, random_list, worse_case_list) = lists_generator(list_size, list_size)\n",
    "    list_of_arrays_to_sort.append(random_list)\n",
    "\n",
    "time_in_ms_list = []\n",
    "\n",
    "\n",
    "for array_to_sort in list_of_arrays_to_sort:\n",
    "    start_time = int(time() * 1000)\n",
    "    insertion_sort_impl_b(array_to_sort)\n",
    "    # insertion_sort_impl_j(array_to_sort)\n",
    "    end_time = int(time() * 1000)\n",
    "    time_in_ms_list.append(end_time - start_time)\n",
    "    \n",
    "    \n",
    "ns = range(min_list_size, max_list_size, increments)\n",
    "\n",
    "plt.plot(ns, np.array(time_in_ms_list))\n"
   ]
  },
  {
   "cell_type": "code",
   "execution_count": null,
   "metadata": {},
   "outputs": [],
   "source": [
    ""
   ]
  }
 ],
 "metadata": {
  "kernelspec": {
   "display_name": "Python 2",
   "language": "python",
   "name": "python2"
  },
  "language_info": {
   "codemirror_mode": {
    "name": "ipython",
    "version": 2
   },
   "file_extension": ".py",
   "mimetype": "text/x-python",
   "name": "python",
   "nbconvert_exporter": "python",
   "pygments_lexer": "ipython2",
   "version": "2.7.6"
  }
 },
 "nbformat": 4,
 "nbformat_minor": 0
}
